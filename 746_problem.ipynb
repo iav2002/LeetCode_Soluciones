{
 "cells": [
  {
   "cell_type": "markdown",
   "metadata": {},
   "source": [
    "# 746 Min Cost Climbing Stairs\n",
    "\n",
    "Te dan una array de integers llamada **cost** donde **cost[i]** es el costo de $i^th$ pasos en la escalera. Una vez que pagas el costo, podes subir uno o dos escalones.\n",
    "\n",
    "Podes empezar desde a subir desde el indice 0, o desde el indice 1, retornar el *minimo* costo par aalcanzar el **OUT OF BOUNDS** \n",
    "Por lo tanto hay que pasarse, y no llegar hasta el ultimo item de la array."
   ]
  },
  {
   "cell_type": "markdown",
   "metadata": {},
   "source": [
    "Example 1:\n",
    "\n",
    "Input: cost = $[10,15,20]$\n",
    "Output: 15\n",
    "Explanation: You will start at index 1.\n",
    "- Pay 15 and climb two steps to reach the top.\n",
    "The total cost is 15.\n",
    "Example 2:\n",
    "\n",
    "Input: cost = $[1,100,1,1,1,100,1,1,100,1]$\n",
    "Output: 6\n",
    "Explanation: You will start at index 0.\n",
    "- Pay 1 and climb two steps to reach index 2.\n",
    "- Pay 1 and climb two steps to reach index 4.\n",
    "- Pay 1 and climb two steps to reach index 6.\n",
    "- Pay 1 and climb one step to reach index 7.\n",
    "- Pay 1 and climb two steps to reach index 9.\n",
    "- Pay 1 and climb one step to reach the top.\n",
    "The total cost is 6."
   ]
  },
  {
   "cell_type": "markdown",
   "metadata": {},
   "source": [
    "# Solucion mas Eficiente\n",
    "\n",
    "```Python\n",
    "class Solution:\n",
    "    def minCostClimbingStairs(self, cost: List[int]) -> int:\n",
    "        cost.append(0)\n",
    "\n",
    "        for i in range(len(cost)- 3, - 1, -1):\n",
    "            cost[i] = min(cost[i] + cost[ i + 1], cost[i] + cost[i + 2])\n",
    "        return min(cost[0], cost[1])\n",
    "\n",
    "```"
   ]
  }
 ],
 "metadata": {
  "language_info": {
   "name": "python"
  }
 },
 "nbformat": 4,
 "nbformat_minor": 2
}
