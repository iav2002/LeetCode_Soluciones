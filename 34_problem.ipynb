{
 "cells": [
  {
   "cell_type": "markdown",
   "metadata": {},
   "source": [
    "# 34. Find First and Last Position of Element in Sorted Array\n",
    "## (Encontrar la primera y ultima posicion del elemento en una array Ordenada)\n",
    "\n",
    "Dada una array integers nums ordenada de manera asenciente, encontrar el comienzo y el final de la posicion de nuestro objetivo.\n",
    "\n",
    "If target is not found in the array, return [-1, -1].\n",
    "\n",
    "You must write an algorithm with O(log n) runtime complexity.\n",
    "\n",
    "Example 1:\n",
    "\n",
    "Input: nums = [5,7,7,8,8,10], target = 8\n",
    "Output: [3,4]\n",
    "Example 2:\n",
    "\n",
    "Input: nums = [5,7,7,8,8,10], target = 6\n",
    "Output: [-1,-1]\n",
    "Example 3:\n",
    "\n",
    "Input: nums = [], target = 0\n",
    "Output: [-1,-1]\n"
   ]
  },
  {
   "cell_type": "markdown",
   "metadata": {},
   "source": [
    "# Lograr Algoritmo en $O (log n)$\n",
    "Cuando buscamos encontrar un item especifico, en una array **ORDENADA** la manera mas optima la mayoria de las veces va a ser *Binary Search*, Siempre a la hora de a frontar los problemas hay que darnos cuenta de los pequeños detalles que revelan usualmente el como solucionar estos problemas de manera mas sencilla.\n",
    "O en este caso ya que unos de los requerimientos es lograrlo en \n",
    "\n",
    "$O(logN)$"
   ]
  },
  {
   "cell_type": "markdown",
   "metadata": {},
   "source": [
    "#Entender Binary Search\n",
    "Para entender en profundidad sera en otro video o estara en la descripcion, pero Binary Search basicamente es dividir la array (ORDENADA) y ver en que mitad es mas probable que nuestro item este. \n",
    "Sin embargo hay un pequeño twist en este binary search donde habra que ocuparlo dos veces, esto no afecta la eficiencia de nuestro algoritmo ya que $2 * O (logN)$ es lo mismo que $O(logN)$"
   ]
  },
  {
   "cell_type": "markdown",
   "metadata": {},
   "source": [
    "# Solucion\n",
    "Una vez entendiendo el concepto de lo que hace binary search podemos facilmente lograr comprender como este algoritmo funciona. Y el twist hecho es solamente por la solvencia de la constrain hecha. "
   ]
  },
  {
   "cell_type": "code",
   "execution_count": null,
   "metadata": {},
   "outputs": [],
   "source": [
    "class Solution:\n",
    "    def searchRange(self, nums: List[int], target: int) -> List[int]:\n",
    "        left = self.binarySearch(nums, target, True)\n",
    "        right = self.binarySearch(nums, target, False)\n",
    "        return[left, right]\n",
    "    \n",
    "\n",
    "    def binarySearch(self, nums, target, leftBias):\n",
    "        L, R = 0, len(nums) - 1\n",
    "        i = -1\n",
    "\n",
    "        while L <= R:\n",
    "            \n",
    "            mid = (L + R) // 2\n",
    "            if target > nums[mid]:\n",
    "                L = mid + 1\n",
    "            elif target < nums[mid]:\n",
    "                R = mid - 1\n",
    "            else: # Repetir binary search, para encontrar el comienzo y final del target\n",
    "                i = mid\n",
    "                if leftBias:\n",
    "                    R = mid - 1\n",
    "                else:\n",
    "                    L = mid + 1\n",
    "        return i"
   ]
  }
 ],
 "metadata": {
  "language_info": {
   "name": "python"
  }
 },
 "nbformat": 4,
 "nbformat_minor": 2
}
