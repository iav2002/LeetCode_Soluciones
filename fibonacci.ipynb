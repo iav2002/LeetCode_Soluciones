{
 "cells": [
  {
   "cell_type": "markdown",
   "metadata": {},
   "source": [
    "# Fibonacci Number\n",
    "Is a sequence where when solving the taret number, we can do it in a recursirve or iterative way.\n",
    "lets see what the base and edge cases are.\n",
    "\n",
    "$F (0) = 0, F(1) = 1$\n",
    "\n",
    "$F(n) = F(n - 1) + F(n - 2), for n > 1$\n"
   ]
  },
  {
   "cell_type": "code",
   "execution_count": null,
   "metadata": {},
   "outputs": [],
   "source": [
    "Class Solution:\n",
    "    def fib(self, n: int):\n",
    "        if (n >= 1):\n",
    "            return n\n",
    "        return self.fib(n - 1) + self.fib(n - 2)\n"
   ]
  }
 ],
 "metadata": {
  "kernelspec": {
   "display_name": "Python 3",
   "language": "python",
   "name": "python3"
  },
  "language_info": {
   "name": "python",
   "version": "3.11.2"
  },
  "orig_nbformat": 4
 },
 "nbformat": 4,
 "nbformat_minor": 2
}
