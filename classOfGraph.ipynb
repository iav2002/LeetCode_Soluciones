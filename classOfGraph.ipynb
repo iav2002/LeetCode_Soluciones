{
 "cells": [
  {
   "cell_type": "code",
   "execution_count": 6,
   "metadata": {},
   "outputs": [],
   "source": [
    "import numpy as np\n",
    "import math\n",
    "import statistics "
   ]
  },
  {
   "cell_type": "code",
   "execution_count": 7,
   "metadata": {},
   "outputs": [],
   "source": [
    "# create an array of values\n",
    "# use numpy\n",
    "\n",
    "data = np.array([6,9,10,12,13])"
   ]
  },
  {
   "cell_type": "markdown",
   "metadata": {},
   "source": [
    "### Find Bar\n",
    "\n",
    "xbar = data.mean()"
   ]
  },
  {
   "cell_type": "code",
   "execution_count": 8,
   "metadata": {},
   "outputs": [
    {
     "name": "stdout",
     "output_type": "stream",
     "text": [
      "Xbar = 10.0\n"
     ]
    }
   ],
   "source": [
    "xbar = data.mean()\n",
    "\n",
    "print(\"Xbar =\",xbar) "
   ]
  },
  {
   "cell_type": "code",
   "execution_count": 9,
   "metadata": {},
   "outputs": [
    {
     "name": "stdout",
     "output_type": "stream",
     "text": [
      "Deviations = [-4. -1.  0.  2.  3.]\n"
     ]
    }
   ],
   "source": [
    "# What are the deviations\n",
    "# The deviation is a mausre of distance\n",
    "# Fore each x value from bar\n",
    "print(\"Deviations =\", data - xbar)"
   ]
  },
  {
   "cell_type": "markdown",
   "metadata": {},
   "source": [
    "### Squared deviations or Sum of Squares\n"
   ]
  },
  {
   "cell_type": "code",
   "execution_count": 12,
   "metadata": {},
   "outputs": [
    {
     "name": "stdout",
     "output_type": "stream",
     "text": [
      "squared Deviations = [16.  1.  0.  4.  9.]\n"
     ]
    }
   ],
   "source": [
    "# To get the square of deviations\n",
    "# Square the output from the deviations\n",
    "\n",
    "print(\"squared Deviations =\", pow(data - xbar,2))"
   ]
  },
  {
   "cell_type": "code",
   "execution_count": null,
   "metadata": {},
   "outputs": [],
   "source": [
    "#To get the variance we square the Standar Deviations\n",
    "\n",
    "s_sq + pow( data - xbar, 2).sum() /(n -1)\n",
    "\n",
    "print(\"Varaicen =\", s_sq)\n"
   ]
  }
 ],
 "metadata": {
  "kernelspec": {
   "display_name": "base",
   "language": "python",
   "name": "python3"
  },
  "language_info": {
   "codemirror_mode": {
    "name": "ipython",
    "version": 3
   },
   "file_extension": ".py",
   "mimetype": "text/x-python",
   "name": "python",
   "nbconvert_exporter": "python",
   "pygments_lexer": "ipython3",
   "version": "3.11.5"
  }
 },
 "nbformat": 4,
 "nbformat_minor": 2
}
