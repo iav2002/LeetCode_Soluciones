{
 "cells": [
  {
   "cell_type": "markdown",
   "metadata": {},
   "source": [
    "# 1.Two Sum \n",
    "\n",
    "Dado un arreglo de enteros nums y un entero target, devuelve los índices de los dos números de manera que sumen target.\n",
    "\n",
    "Puedes asumir que cada entrada tendría exactamente una solución, y no puedes usar el mismo elemento dos veces.\n",
    "\n",
    "Puedes devolver la respuesta en cualquier orden.\n",
    "\n",
    "Ejemplo 1:\n",
    "\n",
    "Entrada: nums = [2,7,11,15], target = 9\n",
    "Salida: [0,1]\n",
    "Explicación: Debido a que nums[0] + nums[1] == 9, retornamos [0, 1].\n",
    "Ejemplo 2:\n",
    "\n",
    "Entrada: nums = [3,2,4], target = 6\n",
    "Salida: [1,2]\n",
    "Ejemplo 3:\n",
    "\n",
    "Entrada: nums = [3,3], target = 6\n",
    "Salida: [0,1]\""
   ]
  },
  {
   "cell_type": "code",
   "execution_count": null,
   "metadata": {},
   "outputs": [],
   "source": [
    "class Solution:\n",
    "    def twoSum(self, nums: [int], target: int) -> [int]:\n",
    "        prevMap= {}\n",
    "        \n",
    "        for i, n in enumerate(nums):\n",
    "            diff = target - n\n",
    "            if diff in prevMap:\n",
    "                return [prevMap[diff],i]\n",
    "            prevMap[n] = i   \n",
    "        return"
   ]
  }
 ],
 "metadata": {
  "language_info": {
   "name": "python"
  }
 },
 "nbformat": 4,
 "nbformat_minor": 2
}
